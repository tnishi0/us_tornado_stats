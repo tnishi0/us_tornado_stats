{
 "cells": [
  {
   "cell_type": "markdown",
   "id": "a91ce213",
   "metadata": {},
   "source": [
    "# Data collection\n",
    "Information of US tornado occurrences is available at Storm Events Database, by the National Centers of Environmental Information (https://www.ncdc.noaa.gov/stormevents/). The database contains data on storms and other significant weather events in the US since 1950, including tornados."
   ]
  },
  {
   "cell_type": "code",
   "execution_count": 1,
   "id": "57a910e9",
   "metadata": {},
   "outputs": [],
   "source": [
    "import pandas as pd\n",
    "from bs4 import BeautifulSoup\n",
    "import requests"
   ]
  },
  {
   "cell_type": "markdown",
   "id": "852645c8",
   "metadata": {},
   "source": [
    "Use the solution from https://stackoverflow.com/questions/11023530/python-to-list-http-files-and-directories to list all files with extension '.gz' and 'details' in the file name, and then download all of them, appending the (just the relevant columns) into a dataframe.  Save the dataframe to a .csv file."
   ]
  },
  {
   "cell_type": "code",
   "execution_count": 11,
   "id": "74f4bbc3",
   "metadata": {},
   "outputs": [
    {
     "name": "stdout",
     "output_type": "stream",
     "text": [
      "https://www.ncei.noaa.gov/pub/data/swdi/stormevents/csvfiles//StormEvents_details-ftp_v1.0_d1950_c20210803.csv.gz\n",
      "https://www.ncei.noaa.gov/pub/data/swdi/stormevents/csvfiles//StormEvents_details-ftp_v1.0_d1951_c20210803.csv.gz\n",
      "https://www.ncei.noaa.gov/pub/data/swdi/stormevents/csvfiles//StormEvents_details-ftp_v1.0_d1952_c20210803.csv.gz\n",
      "https://www.ncei.noaa.gov/pub/data/swdi/stormevents/csvfiles//StormEvents_details-ftp_v1.0_d1953_c20210803.csv.gz\n",
      "https://www.ncei.noaa.gov/pub/data/swdi/stormevents/csvfiles//StormEvents_details-ftp_v1.0_d1954_c20210803.csv.gz\n",
      "https://www.ncei.noaa.gov/pub/data/swdi/stormevents/csvfiles//StormEvents_details-ftp_v1.0_d1955_c20210803.csv.gz\n",
      "https://www.ncei.noaa.gov/pub/data/swdi/stormevents/csvfiles//StormEvents_details-ftp_v1.0_d1956_c20210803.csv.gz\n",
      "https://www.ncei.noaa.gov/pub/data/swdi/stormevents/csvfiles//StormEvents_details-ftp_v1.0_d1957_c20210803.csv.gz\n",
      "https://www.ncei.noaa.gov/pub/data/swdi/stormevents/csvfiles//StormEvents_details-ftp_v1.0_d1958_c20210803.csv.gz\n",
      "https://www.ncei.noaa.gov/pub/data/swdi/stormevents/csvfiles//StormEvents_details-ftp_v1.0_d1959_c20210803.csv.gz\n",
      "https://www.ncei.noaa.gov/pub/data/swdi/stormevents/csvfiles//StormEvents_details-ftp_v1.0_d1960_c20210803.csv.gz\n",
      "https://www.ncei.noaa.gov/pub/data/swdi/stormevents/csvfiles//StormEvents_details-ftp_v1.0_d1961_c20210803.csv.gz\n",
      "https://www.ncei.noaa.gov/pub/data/swdi/stormevents/csvfiles//StormEvents_details-ftp_v1.0_d1962_c20210803.csv.gz\n",
      "https://www.ncei.noaa.gov/pub/data/swdi/stormevents/csvfiles//StormEvents_details-ftp_v1.0_d1963_c20210803.csv.gz\n",
      "https://www.ncei.noaa.gov/pub/data/swdi/stormevents/csvfiles//StormEvents_details-ftp_v1.0_d1964_c20210803.csv.gz\n",
      "https://www.ncei.noaa.gov/pub/data/swdi/stormevents/csvfiles//StormEvents_details-ftp_v1.0_d1965_c20210803.csv.gz\n",
      "https://www.ncei.noaa.gov/pub/data/swdi/stormevents/csvfiles//StormEvents_details-ftp_v1.0_d1966_c20210803.csv.gz\n",
      "https://www.ncei.noaa.gov/pub/data/swdi/stormevents/csvfiles//StormEvents_details-ftp_v1.0_d1967_c20210803.csv.gz\n",
      "https://www.ncei.noaa.gov/pub/data/swdi/stormevents/csvfiles//StormEvents_details-ftp_v1.0_d1968_c20210803.csv.gz\n",
      "https://www.ncei.noaa.gov/pub/data/swdi/stormevents/csvfiles//StormEvents_details-ftp_v1.0_d1969_c20210803.csv.gz\n",
      "https://www.ncei.noaa.gov/pub/data/swdi/stormevents/csvfiles//StormEvents_details-ftp_v1.0_d1970_c20210803.csv.gz\n",
      "https://www.ncei.noaa.gov/pub/data/swdi/stormevents/csvfiles//StormEvents_details-ftp_v1.0_d1971_c20210803.csv.gz\n",
      "https://www.ncei.noaa.gov/pub/data/swdi/stormevents/csvfiles//StormEvents_details-ftp_v1.0_d1972_c20220425.csv.gz\n",
      "https://www.ncei.noaa.gov/pub/data/swdi/stormevents/csvfiles//StormEvents_details-ftp_v1.0_d1973_c20220425.csv.gz\n",
      "https://www.ncei.noaa.gov/pub/data/swdi/stormevents/csvfiles//StormEvents_details-ftp_v1.0_d1974_c20220425.csv.gz\n",
      "https://www.ncei.noaa.gov/pub/data/swdi/stormevents/csvfiles//StormEvents_details-ftp_v1.0_d1975_c20220425.csv.gz\n",
      "https://www.ncei.noaa.gov/pub/data/swdi/stormevents/csvfiles//StormEvents_details-ftp_v1.0_d1976_c20220425.csv.gz\n",
      "https://www.ncei.noaa.gov/pub/data/swdi/stormevents/csvfiles//StormEvents_details-ftp_v1.0_d1977_c20220425.csv.gz\n",
      "https://www.ncei.noaa.gov/pub/data/swdi/stormevents/csvfiles//StormEvents_details-ftp_v1.0_d1978_c20220425.csv.gz\n",
      "https://www.ncei.noaa.gov/pub/data/swdi/stormevents/csvfiles//StormEvents_details-ftp_v1.0_d1979_c20220425.csv.gz\n",
      "https://www.ncei.noaa.gov/pub/data/swdi/stormevents/csvfiles//StormEvents_details-ftp_v1.0_d1980_c20220425.csv.gz\n",
      "https://www.ncei.noaa.gov/pub/data/swdi/stormevents/csvfiles//StormEvents_details-ftp_v1.0_d1981_c20220425.csv.gz\n",
      "https://www.ncei.noaa.gov/pub/data/swdi/stormevents/csvfiles//StormEvents_details-ftp_v1.0_d1982_c20220425.csv.gz\n",
      "https://www.ncei.noaa.gov/pub/data/swdi/stormevents/csvfiles//StormEvents_details-ftp_v1.0_d1983_c20220425.csv.gz\n",
      "https://www.ncei.noaa.gov/pub/data/swdi/stormevents/csvfiles//StormEvents_details-ftp_v1.0_d1984_c20220425.csv.gz\n",
      "https://www.ncei.noaa.gov/pub/data/swdi/stormevents/csvfiles//StormEvents_details-ftp_v1.0_d1985_c20220425.csv.gz\n",
      "https://www.ncei.noaa.gov/pub/data/swdi/stormevents/csvfiles//StormEvents_details-ftp_v1.0_d1986_c20220425.csv.gz\n",
      "https://www.ncei.noaa.gov/pub/data/swdi/stormevents/csvfiles//StormEvents_details-ftp_v1.0_d1987_c20220425.csv.gz\n",
      "https://www.ncei.noaa.gov/pub/data/swdi/stormevents/csvfiles//StormEvents_details-ftp_v1.0_d1988_c20220425.csv.gz\n",
      "https://www.ncei.noaa.gov/pub/data/swdi/stormevents/csvfiles//StormEvents_details-ftp_v1.0_d1989_c20220425.csv.gz\n",
      "https://www.ncei.noaa.gov/pub/data/swdi/stormevents/csvfiles//StormEvents_details-ftp_v1.0_d1990_c20220425.csv.gz\n",
      "https://www.ncei.noaa.gov/pub/data/swdi/stormevents/csvfiles//StormEvents_details-ftp_v1.0_d1991_c20220425.csv.gz\n",
      "https://www.ncei.noaa.gov/pub/data/swdi/stormevents/csvfiles//StormEvents_details-ftp_v1.0_d1992_c20220425.csv.gz\n",
      "https://www.ncei.noaa.gov/pub/data/swdi/stormevents/csvfiles//StormEvents_details-ftp_v1.0_d1993_c20220425.csv.gz\n",
      "https://www.ncei.noaa.gov/pub/data/swdi/stormevents/csvfiles//StormEvents_details-ftp_v1.0_d1994_c20220425.csv.gz\n",
      "https://www.ncei.noaa.gov/pub/data/swdi/stormevents/csvfiles//StormEvents_details-ftp_v1.0_d1995_c20220425.csv.gz\n",
      "https://www.ncei.noaa.gov/pub/data/swdi/stormevents/csvfiles//StormEvents_details-ftp_v1.0_d1996_c20220425.csv.gz\n",
      "https://www.ncei.noaa.gov/pub/data/swdi/stormevents/csvfiles//StormEvents_details-ftp_v1.0_d1997_c20220425.csv.gz\n",
      "https://www.ncei.noaa.gov/pub/data/swdi/stormevents/csvfiles//StormEvents_details-ftp_v1.0_d1998_c20220425.csv.gz\n",
      "https://www.ncei.noaa.gov/pub/data/swdi/stormevents/csvfiles//StormEvents_details-ftp_v1.0_d1999_c20220425.csv.gz\n",
      "https://www.ncei.noaa.gov/pub/data/swdi/stormevents/csvfiles//StormEvents_details-ftp_v1.0_d2000_c20220425.csv.gz\n",
      "https://www.ncei.noaa.gov/pub/data/swdi/stormevents/csvfiles//StormEvents_details-ftp_v1.0_d2001_c20220425.csv.gz\n",
      "https://www.ncei.noaa.gov/pub/data/swdi/stormevents/csvfiles//StormEvents_details-ftp_v1.0_d2002_c20220425.csv.gz\n",
      "https://www.ncei.noaa.gov/pub/data/swdi/stormevents/csvfiles//StormEvents_details-ftp_v1.0_d2003_c20220425.csv.gz\n",
      "https://www.ncei.noaa.gov/pub/data/swdi/stormevents/csvfiles//StormEvents_details-ftp_v1.0_d2004_c20220425.csv.gz\n",
      "https://www.ncei.noaa.gov/pub/data/swdi/stormevents/csvfiles//StormEvents_details-ftp_v1.0_d2005_c20220425.csv.gz\n",
      "https://www.ncei.noaa.gov/pub/data/swdi/stormevents/csvfiles//StormEvents_details-ftp_v1.0_d2006_c20220425.csv.gz\n",
      "https://www.ncei.noaa.gov/pub/data/swdi/stormevents/csvfiles//StormEvents_details-ftp_v1.0_d2007_c20220425.csv.gz\n",
      "https://www.ncei.noaa.gov/pub/data/swdi/stormevents/csvfiles//StormEvents_details-ftp_v1.0_d2008_c20220425.csv.gz\n",
      "https://www.ncei.noaa.gov/pub/data/swdi/stormevents/csvfiles//StormEvents_details-ftp_v1.0_d2009_c20220425.csv.gz\n",
      "https://www.ncei.noaa.gov/pub/data/swdi/stormevents/csvfiles//StormEvents_details-ftp_v1.0_d2010_c20220425.csv.gz\n",
      "https://www.ncei.noaa.gov/pub/data/swdi/stormevents/csvfiles//StormEvents_details-ftp_v1.0_d2011_c20220425.csv.gz\n",
      "https://www.ncei.noaa.gov/pub/data/swdi/stormevents/csvfiles//StormEvents_details-ftp_v1.0_d2012_c20220425.csv.gz\n",
      "https://www.ncei.noaa.gov/pub/data/swdi/stormevents/csvfiles//StormEvents_details-ftp_v1.0_d2013_c20220425.csv.gz\n",
      "https://www.ncei.noaa.gov/pub/data/swdi/stormevents/csvfiles//StormEvents_details-ftp_v1.0_d2014_c20220425.csv.gz\n",
      "https://www.ncei.noaa.gov/pub/data/swdi/stormevents/csvfiles//StormEvents_details-ftp_v1.0_d2015_c20220425.csv.gz\n",
      "https://www.ncei.noaa.gov/pub/data/swdi/stormevents/csvfiles//StormEvents_details-ftp_v1.0_d2016_c20220425.csv.gz\n",
      "https://www.ncei.noaa.gov/pub/data/swdi/stormevents/csvfiles//StormEvents_details-ftp_v1.0_d2017_c20220616.csv.gz\n",
      "https://www.ncei.noaa.gov/pub/data/swdi/stormevents/csvfiles//StormEvents_details-ftp_v1.0_d2018_c20220425.csv.gz\n",
      "https://www.ncei.noaa.gov/pub/data/swdi/stormevents/csvfiles//StormEvents_details-ftp_v1.0_d2019_c20220425.csv.gz\n",
      "https://www.ncei.noaa.gov/pub/data/swdi/stormevents/csvfiles//StormEvents_details-ftp_v1.0_d2020_c20220322.csv.gz\n",
      "https://www.ncei.noaa.gov/pub/data/swdi/stormevents/csvfiles//StormEvents_details-ftp_v1.0_d2021_c20220616.csv.gz\n"
     ]
    },
    {
     "name": "stdout",
     "output_type": "stream",
     "text": [
      "https://www.ncei.noaa.gov/pub/data/swdi/stormevents/csvfiles//StormEvents_details-ftp_v1.0_d2022_c20220616.csv.gz\n"
     ]
    }
   ],
   "source": [
    "# Download the \"details\" CSV files for all years (1950 - 2022)\n",
    "url = 'https://www.ncei.noaa.gov/pub/data/swdi/stormevents/csvfiles/'\n",
    "ext = 'gz'\n",
    "\n",
    "def listFD(url, ext=''):\n",
    "    page = requests.get(url).text\n",
    "    soup = BeautifulSoup(page, 'html.parser')\n",
    "    return [url + '/' + node.get('href') for node in soup.find_all('a') if node.get('href').endswith(ext)]\n",
    "\n",
    "df_list = []\n",
    "for file in listFD(url, ext):\n",
    "    if 'details' in file:\n",
    "        print(file)\n",
    "        df = pd.read_csv(file, low_memory=False)\n",
    "        df = df[df['EVENT_TYPE'] == 'Tornado'][['YEAR', 'STATE', 'TOR_F_SCALE']]\n",
    "        df_list.append(df)\n",
    "pd.concat(df_list).to_csv('noaa_data.csv')"
   ]
  },
  {
   "cell_type": "code",
   "execution_count": null,
   "id": "46050191",
   "metadata": {},
   "outputs": [],
   "source": []
  }
 ],
 "metadata": {
  "kernelspec": {
   "display_name": "Python 3",
   "language": "python",
   "name": "python3"
  },
  "language_info": {
   "codemirror_mode": {
    "name": "ipython",
    "version": 3
   },
   "file_extension": ".py",
   "mimetype": "text/x-python",
   "name": "python",
   "nbconvert_exporter": "python",
   "pygments_lexer": "ipython3",
   "version": "3.8.8"
  }
 },
 "nbformat": 4,
 "nbformat_minor": 5
}
