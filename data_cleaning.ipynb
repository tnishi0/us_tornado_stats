{
 "cells": [
  {
   "cell_type": "markdown",
   "id": "550e66be",
   "metadata": {},
   "source": [
    "# Data cleaning\n",
    "First, load the file `noaa_data.csv` (from the \"Data collection\" notebook):"
   ]
  },
  {
   "cell_type": "code",
   "execution_count": 1,
   "id": "f7fb4bc9",
   "metadata": {},
   "outputs": [
    {
     "data": {
      "text/html": [
       "<div>\n",
       "<style scoped>\n",
       "    .dataframe tbody tr th:only-of-type {\n",
       "        vertical-align: middle;\n",
       "    }\n",
       "\n",
       "    .dataframe tbody tr th {\n",
       "        vertical-align: top;\n",
       "    }\n",
       "\n",
       "    .dataframe thead th {\n",
       "        text-align: right;\n",
       "    }\n",
       "</style>\n",
       "<table border=\"1\" class=\"dataframe\">\n",
       "  <thead>\n",
       "    <tr style=\"text-align: right;\">\n",
       "      <th></th>\n",
       "      <th>YEAR</th>\n",
       "      <th>STATE</th>\n",
       "      <th>TOR_F_SCALE</th>\n",
       "    </tr>\n",
       "  </thead>\n",
       "  <tbody>\n",
       "    <tr>\n",
       "      <th>0</th>\n",
       "      <td>1950</td>\n",
       "      <td>OKLAHOMA</td>\n",
       "      <td>F3</td>\n",
       "    </tr>\n",
       "    <tr>\n",
       "      <th>1</th>\n",
       "      <td>1950</td>\n",
       "      <td>TEXAS</td>\n",
       "      <td>F1</td>\n",
       "    </tr>\n",
       "    <tr>\n",
       "      <th>2</th>\n",
       "      <td>1950</td>\n",
       "      <td>PENNSYLVANIA</td>\n",
       "      <td>F2</td>\n",
       "    </tr>\n",
       "    <tr>\n",
       "      <th>3</th>\n",
       "      <td>1950</td>\n",
       "      <td>PENNSYLVANIA</td>\n",
       "      <td>F2</td>\n",
       "    </tr>\n",
       "    <tr>\n",
       "      <th>4</th>\n",
       "      <td>1950</td>\n",
       "      <td>PENNSYLVANIA</td>\n",
       "      <td>F0</td>\n",
       "    </tr>\n",
       "  </tbody>\n",
       "</table>\n",
       "</div>"
      ],
      "text/plain": [
       "   YEAR         STATE TOR_F_SCALE\n",
       "0  1950      OKLAHOMA          F3\n",
       "1  1950         TEXAS          F1\n",
       "2  1950  PENNSYLVANIA          F2\n",
       "3  1950  PENNSYLVANIA          F2\n",
       "4  1950  PENNSYLVANIA          F0"
      ]
     },
     "execution_count": 1,
     "metadata": {},
     "output_type": "execute_result"
    }
   ],
   "source": [
    "import pandas as pd\n",
    "df = pd.read_csv('noaa_data.csv')\n",
    "df = df.drop(['Unnamed: 0'], axis=1) # The same is the index, so it's redundant\n",
    "df.head()"
   ]
  },
  {
   "cell_type": "markdown",
   "id": "b24d1267",
   "metadata": {},
   "source": [
    "## Current year\n",
    "I will drop the rows corresponding to the current year 2022, since data is available only for part of the year:"
   ]
  },
  {
   "cell_type": "code",
   "execution_count": 2,
   "id": "4a8349fb",
   "metadata": {},
   "outputs": [],
   "source": [
    "df = df[df['YEAR'] < 2022]"
   ]
  },
  {
   "cell_type": "code",
   "execution_count": 3,
   "id": "fcc68c47",
   "metadata": {},
   "outputs": [
    {
     "data": {
      "text/html": [
       "<div>\n",
       "<style scoped>\n",
       "    .dataframe tbody tr th:only-of-type {\n",
       "        vertical-align: middle;\n",
       "    }\n",
       "\n",
       "    .dataframe tbody tr th {\n",
       "        vertical-align: top;\n",
       "    }\n",
       "\n",
       "    .dataframe thead th {\n",
       "        text-align: right;\n",
       "    }\n",
       "</style>\n",
       "<table border=\"1\" class=\"dataframe\">\n",
       "  <thead>\n",
       "    <tr style=\"text-align: right;\">\n",
       "      <th></th>\n",
       "      <th>YEAR</th>\n",
       "      <th>STATE</th>\n",
       "      <th>TOR_F_SCALE</th>\n",
       "    </tr>\n",
       "  </thead>\n",
       "  <tbody>\n",
       "    <tr>\n",
       "      <th>73671</th>\n",
       "      <td>2021</td>\n",
       "      <td>ILLINOIS</td>\n",
       "      <td>EF1</td>\n",
       "    </tr>\n",
       "    <tr>\n",
       "      <th>73672</th>\n",
       "      <td>2021</td>\n",
       "      <td>MISSOURI</td>\n",
       "      <td>EF4</td>\n",
       "    </tr>\n",
       "    <tr>\n",
       "      <th>73673</th>\n",
       "      <td>2021</td>\n",
       "      <td>NEW JERSEY</td>\n",
       "      <td>EF0</td>\n",
       "    </tr>\n",
       "    <tr>\n",
       "      <th>73674</th>\n",
       "      <td>2021</td>\n",
       "      <td>MISSISSIPPI</td>\n",
       "      <td>EF1</td>\n",
       "    </tr>\n",
       "    <tr>\n",
       "      <th>73675</th>\n",
       "      <td>2021</td>\n",
       "      <td>TENNESSEE</td>\n",
       "      <td>EF2</td>\n",
       "    </tr>\n",
       "  </tbody>\n",
       "</table>\n",
       "</div>"
      ],
      "text/plain": [
       "       YEAR        STATE TOR_F_SCALE\n",
       "73671  2021     ILLINOIS         EF1\n",
       "73672  2021     MISSOURI         EF4\n",
       "73673  2021   NEW JERSEY         EF0\n",
       "73674  2021  MISSISSIPPI         EF1\n",
       "73675  2021    TENNESSEE         EF2"
      ]
     },
     "execution_count": 3,
     "metadata": {},
     "output_type": "execute_result"
    }
   ],
   "source": [
    "df.tail()"
   ]
  },
  {
   "cell_type": "markdown",
   "id": "b25f3e34",
   "metadata": {},
   "source": [
    "## State names\n",
    "I will put the state names in the title case:"
   ]
  },
  {
   "cell_type": "code",
   "execution_count": 4,
   "id": "2fa03e2a",
   "metadata": {},
   "outputs": [],
   "source": [
    "df['STATE'] = df['STATE'].apply(lambda s: s.title())"
   ]
  },
  {
   "cell_type": "code",
   "execution_count": 5,
   "id": "4fb5df92",
   "metadata": {},
   "outputs": [
    {
     "data": {
      "text/html": [
       "<div>\n",
       "<style scoped>\n",
       "    .dataframe tbody tr th:only-of-type {\n",
       "        vertical-align: middle;\n",
       "    }\n",
       "\n",
       "    .dataframe tbody tr th {\n",
       "        vertical-align: top;\n",
       "    }\n",
       "\n",
       "    .dataframe thead th {\n",
       "        text-align: right;\n",
       "    }\n",
       "</style>\n",
       "<table border=\"1\" class=\"dataframe\">\n",
       "  <thead>\n",
       "    <tr style=\"text-align: right;\">\n",
       "      <th></th>\n",
       "      <th>YEAR</th>\n",
       "      <th>STATE</th>\n",
       "      <th>TOR_F_SCALE</th>\n",
       "    </tr>\n",
       "  </thead>\n",
       "  <tbody>\n",
       "    <tr>\n",
       "      <th>0</th>\n",
       "      <td>1950</td>\n",
       "      <td>Oklahoma</td>\n",
       "      <td>F3</td>\n",
       "    </tr>\n",
       "    <tr>\n",
       "      <th>1</th>\n",
       "      <td>1950</td>\n",
       "      <td>Texas</td>\n",
       "      <td>F1</td>\n",
       "    </tr>\n",
       "    <tr>\n",
       "      <th>2</th>\n",
       "      <td>1950</td>\n",
       "      <td>Pennsylvania</td>\n",
       "      <td>F2</td>\n",
       "    </tr>\n",
       "    <tr>\n",
       "      <th>3</th>\n",
       "      <td>1950</td>\n",
       "      <td>Pennsylvania</td>\n",
       "      <td>F2</td>\n",
       "    </tr>\n",
       "    <tr>\n",
       "      <th>4</th>\n",
       "      <td>1950</td>\n",
       "      <td>Pennsylvania</td>\n",
       "      <td>F0</td>\n",
       "    </tr>\n",
       "  </tbody>\n",
       "</table>\n",
       "</div>"
      ],
      "text/plain": [
       "   YEAR         STATE TOR_F_SCALE\n",
       "0  1950      Oklahoma          F3\n",
       "1  1950         Texas          F1\n",
       "2  1950  Pennsylvania          F2\n",
       "3  1950  Pennsylvania          F2\n",
       "4  1950  Pennsylvania          F0"
      ]
     },
     "execution_count": 5,
     "metadata": {},
     "output_type": "execute_result"
    }
   ],
   "source": [
    "df.head()"
   ]
  },
  {
   "cell_type": "markdown",
   "id": "621b7ff7",
   "metadata": {},
   "source": [
    "## Tornado strength — handling missing values\n",
    "According to the documentation for the data, \"TOR_F_SCALE\" is the Enhanced Fujita Scale, which describes the strength of the tornado based on the amount and type of damage caused by the tornado. The F-scale of damage will vary in the destruction area; therefore, the highest value of the F-scale is recorded for each event.\n",
    "* EF0 – Light Damage (40 – 72 mph)\n",
    "* EF1 – Moderate Damage (73 – 112 mph)\n",
    "* EF2 – Significant damage (113 – 157 mph)\n",
    "* EF3 – Severe Damage (158 – 206 mph)\n",
    "* EF4 – Devastating Damage (207 – 260 mph)\n",
    "* EF5 – Incredible Damage (261 – 318 mph)"
   ]
  },
  {
   "cell_type": "code",
   "execution_count": 6,
   "id": "666f6c99",
   "metadata": {},
   "outputs": [
    {
     "data": {
      "text/plain": [
       "array(['F3', 'F1', 'F2', 'F0', 'F4', nan, 'F5', 'EF0', 'EF2', 'EF1',\n",
       "       'EF3', 'EF4', 'EF5', 'EFU'], dtype=object)"
      ]
     },
     "execution_count": 6,
     "metadata": {},
     "output_type": "execute_result"
    }
   ],
   "source": [
    "df.TOR_F_SCALE.unique()"
   ]
  },
  {
   "cell_type": "markdown",
   "id": "3a8be86a",
   "metadata": {},
   "source": [
    "There are some NaN's (most likely empty cells in the original data files) and also 'EFU', which I assume means that the strength is \"undetermined\". Let's see how many there are:"
   ]
  },
  {
   "cell_type": "code",
   "execution_count": 7,
   "id": "fec8eabe",
   "metadata": {},
   "outputs": [
    {
     "name": "stdout",
     "output_type": "stream",
     "text": [
      "NaN: 1970 (2.7%)\n",
      "EFU: 652 (0.9%)\n",
      "Total: 2622 out of 73676 (3.6%)\n"
     ]
    }
   ],
   "source": [
    "num_NaN = df[\"TOR_F_SCALE\"].isnull().sum()\n",
    "print(f'NaN: {num_NaN} ({num_NaN / len(df) * 100:.1f}%)')\n",
    "num_EFU = (df[\"TOR_F_SCALE\"] == \"EFU\").sum()\n",
    "print(f'EFU: {num_EFU} ({num_EFU / len(df) * 100:.1f}%)')\n",
    "print(f'Total: {num_NaN + num_EFU} out of {len(df)} ({(num_NaN + num_EFU) / len(df) * 100:.1f}%)')"
   ]
  },
  {
   "cell_type": "markdown",
   "id": "e9e2f7d6",
   "metadata": {},
   "source": [
    "So, the strength information is missing for about 3.6% of the recorded tornados. The missing data appear only in 1995 or before:"
   ]
  },
  {
   "cell_type": "code",
   "execution_count": 8,
   "id": "85e39fac",
   "metadata": {},
   "outputs": [],
   "source": [
    "df['EFU'] = df['TOR_F_SCALE'].apply(lambda x: 1 if x == 'EFU' else 0)\n",
    "df['MISSING'] = df['TOR_F_SCALE'].apply(lambda x: 1 if pd.isnull(x) else 0)\n",
    "fraction_missing = df.groupby('YEAR').mean()"
   ]
  },
  {
   "cell_type": "code",
   "execution_count": 9,
   "id": "1c2bf541",
   "metadata": {},
   "outputs": [
    {
     "data": {
      "image/png": "[encoded data removed]",
      "text/plain": [
       "<Figure size 1152x288 with 1 Axes>"
      ]
     },
     "metadata": {
      "needs_background": "light"
     },
     "output_type": "display_data"
    },
    {
     "name": "stdout",
     "output_type": "stream",
     "text": [
      "Maximum fraction of 0.232 is observed in year 1978.\n"
     ]
    }
   ],
   "source": [
    "import matplotlib.pyplot as plt\n",
    "# df['NO_TOR_F_SCALE'] = df['TOR_F_SCALE'].apply(lambda x: 1 if pd.isnull(x) or x == 'EFU' else 0)\n",
    "# fraction_missing = df.groupby('YEAR').mean()\n",
    "fraction_missing.plot(kind='bar', stacked=True, figsize=(16, 4), legend=True)\n",
    "plt.xlabel('Year', fontsize=16)\n",
    "plt.ylabel('Fraction', fontsize=16)\n",
    "plt.title('Fraction of missing F-scale values by years', fontsize=18)\n",
    "plt.show()\n",
    "\n",
    "print(f'Maximum fraction of {fraction_missing.sum(axis=1).max()} is observed in year {fraction_missing.sum(axis=1).idxmax()}.')"
   ]
  },
  {
   "cell_type": "markdown",
   "id": "b6c7cd5b",
   "metadata": {},
   "source": [
    "Missing values are observed only in or before 1995, while the \"EFU\" values are found in or after 2016. Since those tornados with missing strength information are likely to be weak, their strengths will be set to 0.  The other the F scale values will be coverted to integers."
   ]
  },
  {
   "cell_type": "code",
   "execution_count": 10,
   "id": "2d4b96d0",
   "metadata": {},
   "outputs": [],
   "source": [
    "import numpy as np\n",
    "df['Strength'] = [int(s[-1]) if type(s) == str and s[-1] != 'U' else 0 for s in df['TOR_F_SCALE']]\n",
    "df.drop(['EFU', 'MISSING', 'TOR_F_SCALE'], axis=1, inplace=True)"
   ]
  },
  {
   "cell_type": "code",
   "execution_count": 11,
   "id": "44211d00",
   "metadata": {},
   "outputs": [
    {
     "data": {
      "text/plain": [
       "array([0, 1, 2, 3, 4, 5])"
      ]
     },
     "execution_count": 11,
     "metadata": {},
     "output_type": "execute_result"
    }
   ],
   "source": [
    "np.sort(df['Strength'].unique())"
   ]
  },
  {
   "cell_type": "markdown",
   "id": "ce1dc843",
   "metadata": {},
   "source": [
    "Here is the distribution of tonado strength:"
   ]
  },
  {
   "cell_type": "code",
   "execution_count": 12,
   "id": "1897162b",
   "metadata": {
    "scrolled": true
   },
   "outputs": [
    {
     "data": {
      "text/plain": [
       "0    33931\n",
       "1    24041\n",
       "2    10997\n",
       "3     3445\n",
       "4     1124\n",
       "5      138\n",
       "Name: Strength, dtype: int64"
      ]
     },
     "execution_count": 12,
     "metadata": {},
     "output_type": "execute_result"
    }
   ],
   "source": [
    "df['Strength'].value_counts()"
   ]
  },
  {
   "cell_type": "code",
   "execution_count": 13,
   "id": "827be704",
   "metadata": {},
   "outputs": [
    {
     "data": {
      "text/html": [
       "<div>\n",
       "<style scoped>\n",
       "    .dataframe tbody tr th:only-of-type {\n",
       "        vertical-align: middle;\n",
       "    }\n",
       "\n",
       "    .dataframe tbody tr th {\n",
       "        vertical-align: top;\n",
       "    }\n",
       "\n",
       "    .dataframe thead th {\n",
       "        text-align: right;\n",
       "    }\n",
       "</style>\n",
       "<table border=\"1\" class=\"dataframe\">\n",
       "  <thead>\n",
       "    <tr style=\"text-align: right;\">\n",
       "      <th></th>\n",
       "      <th>Year</th>\n",
       "      <th>State</th>\n",
       "      <th>Strength</th>\n",
       "    </tr>\n",
       "  </thead>\n",
       "  <tbody>\n",
       "    <tr>\n",
       "      <th>0</th>\n",
       "      <td>1950</td>\n",
       "      <td>Oklahoma</td>\n",
       "      <td>3</td>\n",
       "    </tr>\n",
       "    <tr>\n",
       "      <th>1</th>\n",
       "      <td>1950</td>\n",
       "      <td>Texas</td>\n",
       "      <td>1</td>\n",
       "    </tr>\n",
       "    <tr>\n",
       "      <th>2</th>\n",
       "      <td>1950</td>\n",
       "      <td>Pennsylvania</td>\n",
       "      <td>2</td>\n",
       "    </tr>\n",
       "    <tr>\n",
       "      <th>3</th>\n",
       "      <td>1950</td>\n",
       "      <td>Pennsylvania</td>\n",
       "      <td>2</td>\n",
       "    </tr>\n",
       "    <tr>\n",
       "      <th>4</th>\n",
       "      <td>1950</td>\n",
       "      <td>Pennsylvania</td>\n",
       "      <td>0</td>\n",
       "    </tr>\n",
       "    <tr>\n",
       "      <th>...</th>\n",
       "      <td>...</td>\n",
       "      <td>...</td>\n",
       "      <td>...</td>\n",
       "    </tr>\n",
       "    <tr>\n",
       "      <th>73671</th>\n",
       "      <td>2021</td>\n",
       "      <td>Illinois</td>\n",
       "      <td>1</td>\n",
       "    </tr>\n",
       "    <tr>\n",
       "      <th>73672</th>\n",
       "      <td>2021</td>\n",
       "      <td>Missouri</td>\n",
       "      <td>4</td>\n",
       "    </tr>\n",
       "    <tr>\n",
       "      <th>73673</th>\n",
       "      <td>2021</td>\n",
       "      <td>New Jersey</td>\n",
       "      <td>0</td>\n",
       "    </tr>\n",
       "    <tr>\n",
       "      <th>73674</th>\n",
       "      <td>2021</td>\n",
       "      <td>Mississippi</td>\n",
       "      <td>1</td>\n",
       "    </tr>\n",
       "    <tr>\n",
       "      <th>73675</th>\n",
       "      <td>2021</td>\n",
       "      <td>Tennessee</td>\n",
       "      <td>2</td>\n",
       "    </tr>\n",
       "  </tbody>\n",
       "</table>\n",
       "<p>73676 rows × 3 columns</p>\n",
       "</div>"
      ],
      "text/plain": [
       "       Year         State  Strength\n",
       "0      1950      Oklahoma         3\n",
       "1      1950         Texas         1\n",
       "2      1950  Pennsylvania         2\n",
       "3      1950  Pennsylvania         2\n",
       "4      1950  Pennsylvania         0\n",
       "...     ...           ...       ...\n",
       "73671  2021      Illinois         1\n",
       "73672  2021      Missouri         4\n",
       "73673  2021    New Jersey         0\n",
       "73674  2021   Mississippi         1\n",
       "73675  2021     Tennessee         2\n",
       "\n",
       "[73676 rows x 3 columns]"
      ]
     },
     "execution_count": 13,
     "metadata": {},
     "output_type": "execute_result"
    }
   ],
   "source": [
    "df.columns = [s.title() for s in df.columns]\n",
    "df"
   ]
  },
  {
   "cell_type": "markdown",
   "id": "ed33d078",
   "metadata": {},
   "source": [
    "Save the cleaned data to a .csv file:"
   ]
  },
  {
   "cell_type": "code",
   "execution_count": 14,
   "id": "5f50fb27",
   "metadata": {},
   "outputs": [],
   "source": [
    "df.to_csv('noaa_data_cleaned.csv')"
   ]
  }
 ],
 "metadata": {
  "kernelspec": {
   "display_name": "Python 3",
   "language": "python",
   "name": "python3"
  },
  "language_info": {
   "codemirror_mode": {
    "name": "ipython",
    "version": 3
   },
   "file_extension": ".py",
   "mimetype": "text/x-python",
   "name": "python",
   "nbconvert_exporter": "python",
   "pygments_lexer": "ipython3",
   "version": "3.8.8"
  }
 },
 "nbformat": 4,
 "nbformat_minor": 5
}
